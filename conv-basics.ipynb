{
 "cells": [
  {
   "cell_type": "markdown",
   "metadata": {},
   "source": [
    "# Basic convolutional network for MNIST classification tutorial"
   ]
  },
  {
   "cell_type": "markdown",
   "metadata": {},
   "source": [
    "## Libraries"
   ]
  },
  {
   "cell_type": "markdown",
   "metadata": {},
   "source": [
    "First we will load some libraries. We will need **Flux** *(obviously)*, from which we import the MNIST dataset, our loss function and tools for onehot encoding the labels and creating minibatches. We will also use **Statistics** for calculating accuracy."
   ]
  },
  {
   "cell_type": "code",
   "execution_count": 1,
   "metadata": {},
   "outputs": [
    {
     "name": "stderr",
     "output_type": "stream",
     "text": [
      "WARNING: using MLDatasets.MNIST in module Main conflicts with an existing identifier.\n"
     ]
    }
   ],
   "source": [
    "using Flux\n",
    "using Flux: Data.DataLoader\n",
    "using Flux: onehotbatch, onecold, crossentropy\n",
    "using Statistics\n",
    "using MLDatasets"
   ]
  },
  {
   "cell_type": "markdown",
   "metadata": {},
   "source": [
    "## Loading and transforming dataset"
   ]
  },
  {
   "cell_type": "markdown",
   "metadata": {},
   "source": [
    "Now we will import the MNIST dataset."
   ]
  },
  {
   "cell_type": "code",
   "execution_count": 12,
   "metadata": {},
   "outputs": [],
   "source": [
    "x_train, y_train = MLDatasets.MNIST.traindata()\n",
    "x_valid, y_valid = MLDatasets.MNIST.testdata();"
   ]
  },
  {
   "cell_type": "code",
   "execution_count": 13,
   "metadata": {},
   "outputs": [],
   "source": [
    "x_train = Flux.unsqueeze(x_train, 3)\n",
    "x_valid = Flux.unsqueeze(x_valid, 3);"
   ]
  },
  {
   "cell_type": "markdown",
   "metadata": {},
   "source": [
    "Then we will onehot encode our training and test labels"
   ]
  },
  {
   "cell_type": "code",
   "execution_count": 14,
   "metadata": {},
   "outputs": [],
   "source": [
    "y_train = onehotbatch(y_train, 0:9)\n",
    "y_valid = onehotbatch(y_valid, 0:9);"
   ]
  },
  {
   "cell_type": "markdown",
   "metadata": {},
   "source": [
    "And finally we will use DataLoader to manage minibatches. Here I've chosen a batchsize of 128 images."
   ]
  },
  {
   "cell_type": "code",
   "execution_count": 15,
   "metadata": {},
   "outputs": [],
   "source": [
    "train_data = DataLoader(x_train, y_train, batchsize=128);"
   ]
  },
  {
   "cell_type": "markdown",
   "metadata": {},
   "source": [
    "## Creating the model"
   ]
  },
  {
   "cell_type": "markdown",
   "metadata": {},
   "source": [
    "Now it is time to create our model. We will use **Chain()** and put our chosen layers there. You can chcek the full list of avilable layers [here](https://fluxml.ai/Flux.jl/stable/models/layers/)."
   ]
  },
  {
   "cell_type": "markdown",
   "metadata": {},
   "source": [
    "But first lets define layers manually and see exactly what outputs they produce. First 4 layers are no mystery. We start with a convolution kernel 5x5 and we go from 1 channel to 8. Nest 3 layers are similar but with a kernel of 3x3. Then we do a GlobalMeanPool. This layer will take a mean from our 32 feature maps in each sample and return a vetor of 32 for each sample. But we can't feed it into thed ense layer yet becouse the dimentions won't mach. That is why we define layer 55 *(5.5)* which will simply drop the first 2 dimentions and produce a tensor of size 32xN. You can see it in the for loop."
   ]
  },
  {
   "cell_type": "code",
   "execution_count": 21,
   "metadata": {},
   "outputs": [],
   "source": [
    "layer1 = Conv((5, 5), 1=>8, pad=2, stride=2, relu) # Conv layer with a kernel of size 5x5, skipping every second pixel\n",
    "layer2 = Conv((3, 3), 8=>16, pad=1, stride=2, relu)\n",
    "layer3 = Conv((3, 3), 16=>32, pad=1, stride=2, relu)\n",
    "layer4 = Conv((3, 3), 32=>32, pad=1, stride=2, relu)\n",
    "\n",
    "layer5 = GlobalMeanPool() # Layer to take average from our 2x2 feature map\n",
    "\n",
    "#layer55 = x -> reshape(x, :, size(x, 4)) # Layer to drop 2 first singleton dimentions\n",
    "layer55 = flatten # The same thing as above but prettier\n",
    "\n",
    "layer6 = Dense(32, 10) # Standard Linear layer\n",
    "layer7 = softmax\n",
    "\n",
    "layer8 = onecold; # Reverse onehot encoding and get a vector with predictions"
   ]
  },
  {
   "cell_type": "code",
   "execution_count": 22,
   "metadata": {},
   "outputs": [
    {
     "name": "stdout",
     "output_type": "stream",
     "text": [
      "Input size to layer: Conv((5, 5), 1=>8, relu) = (28, 28, 1, 10000)\n",
      "Output size from layer: Conv((5, 5), 1=>8, relu) = (14, 14, 8, 10000)\n",
      "\n",
      "Input size to layer: Conv((3, 3), 8=>16, relu) = (14, 14, 8, 10000)\n",
      "Output size from layer: Conv((3, 3), 8=>16, relu) = (7, 7, 16, 10000)\n",
      "\n",
      "Input size to layer: Conv((3, 3), 16=>32, relu) = (7, 7, 16, 10000)\n",
      "Output size from layer: Conv((3, 3), 16=>32, relu) = (4, 4, 32, 10000)\n",
      "\n",
      "Input size to layer: Conv((3, 3), 32=>32, relu) = (4, 4, 32, 10000)\n",
      "Output size from layer: Conv((3, 3), 32=>32, relu) = (2, 2, 32, 10000)\n",
      "\n",
      "Input size to layer: GlobalMeanPool() = (2, 2, 32, 10000)\n",
      "Output size from layer: GlobalMeanPool() = (1, 1, 32, 10000)\n",
      "\n",
      "Input size to layer: flatten = (1, 1, 32, 10000)\n",
      "Output size from layer: flatten = (32, 10000)\n",
      "\n",
      "Input size to layer: Dense(32, 10) = (32, 10000)\n",
      "Output size from layer: Dense(32, 10) = (10, 10000)\n",
      "\n",
      "Input size to layer: softmax = (10, 10000)\n",
      "Output size from layer: softmax = (10, 10000)\n",
      "\n",
      "Input size to layer: onecold = (10, 10000)\n",
      "Output size from layer: onecold = (10000,)\n",
      "\n"
     ]
    }
   ],
   "source": [
    "layers = [layer1, layer2, layer3, layer4, layer5, layer55, layer6, layer7, layer8]\n",
    "x = x_valid\n",
    "\n",
    "for layer in layers\n",
    "    println(\"Input size to layer: $layer = $(size(x))\")\n",
    "    x = layer(x)\n",
    "    println(\"Output size from layer: $layer = $(size(x))\\n\")\n",
    "end"
   ]
  },
  {
   "cell_type": "code",
   "execution_count": 26,
   "metadata": {},
   "outputs": [],
   "source": [
    "model = Chain(\n",
    "    Conv((5, 5), 1=>8, pad=2, stride=2, relu), # 28x28 => 14x14\n",
    "    Conv((3, 3), 8=>16, pad=1, stride=2, relu), # 14x14 => 7x7\n",
    "    Conv((3, 3), 16=>32, pad=1, stride=2, relu), # 7x7 => 4x4\n",
    "    Conv((3, 3), 32=>32, pad=1, stride=2, relu), # 4x4 => 2x2\n",
    "    \n",
    "    GlobalMeanPool(), # Average pooling on each width x height feature map\n",
    "\n",
    "    #x -> reshape(x, :, size(x, 4)), # old way\n",
    "    flatten,\n",
    "    \n",
    "    Dense(32, 10),\n",
    "    softmax);"
   ]
  },
  {
   "cell_type": "code",
   "execution_count": 27,
   "metadata": {},
   "outputs": [
    {
     "name": "stdout",
     "output_type": "stream",
     "text": [
      "Prediction of first image: 5\n"
     ]
    }
   ],
   "source": [
    "ŷ = model(x_train) # Getting predictions \n",
    "ŷ = onecold(ŷ) # Decoding predictions\n",
    "println(\"Prediction of first image: $(ŷ[1])\")"
   ]
  },
  {
   "cell_type": "markdown",
   "metadata": {},
   "source": [
    "We see  the model works but we haven't done any training yet so most likely it won't win any kaggle competitions just yet."
   ]
  },
  {
   "cell_type": "markdown",
   "metadata": {},
   "source": [
    "Now it is time to define our loss function, metric and optimizer. We will use a simple accuracy metrix, that is a mean of exact maches of the model predictions and labels. The loss function will be the standard in classification problems so crossentropy and we will use gradient descent as the optimizer. There are better choices but we will focus on the basics."
   ]
  },
  {
   "cell_type": "code",
   "execution_count": 28,
   "metadata": {},
   "outputs": [
    {
     "data": {
      "text/plain": [
       "accuracy (generic function with 1 method)"
      ]
     },
     "execution_count": 28,
     "metadata": {},
     "output_type": "execute_result"
    }
   ],
   "source": [
    "accuracy(ŷ, y) = mean(onecold(ŷ) .== onecold(y))"
   ]
  },
  {
   "cell_type": "code",
   "execution_count": 29,
   "metadata": {},
   "outputs": [
    {
     "data": {
      "text/plain": [
       "loss (generic function with 1 method)"
      ]
     },
     "execution_count": 29,
     "metadata": {},
     "output_type": "execute_result"
    }
   ],
   "source": [
    "loss(x, y) = Flux.crossentropy(model(x), y)"
   ]
  },
  {
   "cell_type": "code",
   "execution_count": 30,
   "metadata": {},
   "outputs": [
    {
     "data": {
      "text/plain": [
       "Descent(0.1)"
      ]
     },
     "execution_count": 30,
     "metadata": {},
     "output_type": "execute_result"
    }
   ],
   "source": [
    "lr = 0.1 # learning rate\n",
    "opt = Descent(lr)"
   ]
  },
  {
   "cell_type": "markdown",
   "metadata": {},
   "source": [
    "In Flux we also have to take the parameters before training as we will pass them as an argument. Fortunately Flux has a function for that"
   ]
  },
  {
   "cell_type": "code",
   "execution_count": 32,
   "metadata": {},
   "outputs": [],
   "source": [
    "ps = Flux.params(model);"
   ]
  },
  {
   "cell_type": "markdown",
   "metadata": {},
   "source": [
    "Now that we have everything we will start training our model. The simplest way to do so is to call `train!` function provided in Flux. This will do a 1 full pass with forward and backward step."
   ]
  },
  {
   "cell_type": "code",
   "execution_count": 34,
   "metadata": {},
   "outputs": [],
   "source": [
    "Flux.train!(loss, ps, train_data, opt)"
   ]
  },
  {
   "cell_type": "code",
   "execution_count": 35,
   "metadata": {},
   "outputs": [
    {
     "data": {
      "text/plain": [
       "0.8872333333333333"
      ]
     },
     "execution_count": 35,
     "metadata": {},
     "output_type": "execute_result"
    }
   ],
   "source": [
    "accuracy(model(x_train), y_train)"
   ]
  },
  {
   "cell_type": "markdown",
   "metadata": {},
   "source": [
    "If we want to specify the number of epochs we can do so by using the `@epochs` macro"
   ]
  },
  {
   "cell_type": "code",
   "execution_count": 37,
   "metadata": {},
   "outputs": [
    {
     "name": "stderr",
     "output_type": "stream",
     "text": [
      "┌ Info: Epoch 1\n",
      "└ @ Main C:\\Users\\arjur\\.julia\\packages\\Flux\\Fj3bt\\src\\optimise\\train.jl:121\n",
      "┌ Info: Epoch 2\n",
      "└ @ Main C:\\Users\\arjur\\.julia\\packages\\Flux\\Fj3bt\\src\\optimise\\train.jl:121\n"
     ]
    }
   ],
   "source": [
    "using Flux: @epochs\n",
    "number_epochs = 2\n",
    "\n",
    "@epochs number_epochs Flux.train!(loss, ps, train_data, opt)"
   ]
  },
  {
   "cell_type": "code",
   "execution_count": 38,
   "metadata": {},
   "outputs": [
    {
     "data": {
      "text/plain": [
       "0.9542166666666667"
      ]
     },
     "execution_count": 38,
     "metadata": {},
     "output_type": "execute_result"
    }
   ],
   "source": [
    "accuracy(model(x_train), y_train)"
   ]
  },
  {
   "cell_type": "markdown",
   "metadata": {},
   "source": [
    "Flux provides the option for callbacks in `train!` too. To do so we first define a function and the pass it to `train!` as the `cb` parameter. For example we will create a callback to show our loss while training. Callbacks are by default called with every batch of the data. We can change that with the `throttle` function from Flux which prevents the callback from beeing called for a specified number of seconds after the previous one. By using the `@show` macro it also prints the function."
   ]
  },
  {
   "cell_type": "code",
   "execution_count": 190,
   "metadata": {},
   "outputs": [
    {
     "data": {
      "text/plain": [
       "0-element Array{Float32,1}"
      ]
     },
     "execution_count": 190,
     "metadata": {},
     "output_type": "execute_result"
    }
   ],
   "source": [
    "callback() = push!(loss_vector, loss(x_train, y_train))\n",
    "loss_vector = Vector{Float64}()"
   ]
  },
  {
   "cell_type": "code",
   "execution_count": 71,
   "metadata": {},
   "outputs": [],
   "source": [
    "Flux.train!(loss, ps, train_data, opt, cb=callback)"
   ]
  },
  {
   "cell_type": "markdown",
   "metadata": {},
   "source": [
    "This way we could make a plot on how our loss changes while training. But here our callback makes predictions on all the training data on each batch so It's not the most efficient way for the long run."
   ]
  },
  {
   "cell_type": "markdown",
   "metadata": {},
   "source": [
    "It would be better to look at our loss on each epoch. For that we will create a custom training loop."
   ]
  },
  {
   "cell_type": "markdown",
   "metadata": {},
   "source": [
    "First lets recreate the `train!` function *(to some extent that is)*. For that we create a simple for loop over our DataLoader. Then we take the gradients and update our model. SImple as that! And thanks to Julia we aren't slaped with the performace penalty."
   ]
  },
  {
   "cell_type": "code",
   "execution_count": 196,
   "metadata": {},
   "outputs": [],
   "source": [
    "for batch in train_data\n",
    "    \n",
    "    gradient = Flux.gradient(ps) do\n",
    "      training_loss = loss(batch...) # Remember that inside the loss() is the model\n",
    "      return training_loss\n",
    "    end\n",
    "    \n",
    "    Flux.update!(opt, ps, gradient)\n",
    "end"
   ]
  },
  {
   "cell_type": "markdown",
   "metadata": {},
   "source": [
    "Now lets put it in another loop for epochs and log the loss after each one of them."
   ]
  },
  {
   "cell_type": "code",
   "execution_count": 204,
   "metadata": {},
   "outputs": [],
   "source": [
    "epochs = 10\n",
    "epochs_loss_list = Vector{Float64}()\n",
    "\n",
    "for epoch in 1:epochs\n",
    "    for batch in train_data\n",
    "    \n",
    "        gradient = Flux.gradient(ps) do\n",
    "          training_loss = loss(batch...)\n",
    "          return training_loss\n",
    "        end\n",
    "\n",
    "        Flux.update!(opt, ps, gradient)\n",
    "    end\n",
    "    \n",
    "    push!(epochs_loss_list, loss(x_train, y_train))\n",
    "end"
   ]
  },
  {
   "cell_type": "code",
   "execution_count": 205,
   "metadata": {},
   "outputs": [
    {
     "data": {
      "text/plain": [
       "2-element Array{Float64,1}:\n",
       " 0.07518023997545242\n",
       " 0.07117365300655365"
      ]
     },
     "execution_count": 205,
     "metadata": {},
     "output_type": "execute_result"
    }
   ],
   "source": [
    "epochs_loss_list"
   ]
  },
  {
   "cell_type": "markdown",
   "metadata": {},
   "source": [
    "And we can finally plot it"
   ]
  },
  {
   "cell_type": "code",
   "execution_count": 207,
   "metadata": {},
   "outputs": [
    {
     "data": {
      "image/svg+xml": [
       "<?xml version=\"1.0\" encoding=\"utf-8\"?>\n",
       "<svg xmlns=\"http://www.w3.org/2000/svg\" xmlns:xlink=\"http://www.w3.org/1999/xlink\" width=\"600\" height=\"400\" viewBox=\"0 0 2400 1600\">\n",
       "<defs>\n",
       "  <clipPath id=\"clip2500\">\n",
       "    <rect x=\"0\" y=\"0\" width=\"2400\" height=\"1600\"/>\n",
       "  </clipPath>\n",
       "</defs>\n",
       "<path clip-path=\"url(#clip2500)\" d=\"\n",
       "M0 1600 L2400 1600 L2400 0 L0 0  Z\n",
       "  \" fill=\"#ffffff\" fill-rule=\"evenodd\" fill-opacity=\"1\"/>\n",
       "<defs>\n",
       "  <clipPath id=\"clip2501\">\n",
       "    <rect x=\"480\" y=\"0\" width=\"1681\" height=\"1600\"/>\n",
       "  </clipPath>\n",
       "</defs>\n",
       "<path clip-path=\"url(#clip2500)\" d=\"\n",
       "M207.423 1487.47 L2352.76 1487.47 L2352.76 47.2441 L207.423 47.2441  Z\n",
       "  \" fill=\"#ffffff\" fill-rule=\"evenodd\" fill-opacity=\"1\"/>\n",
       "<defs>\n",
       "  <clipPath id=\"clip2502\">\n",
       "    <rect x=\"207\" y=\"47\" width=\"2146\" height=\"1441\"/>\n",
       "  </clipPath>\n",
       "</defs>\n",
       "<polyline clip-path=\"url(#clip2502)\" style=\"stroke:#000000; stroke-width:2; stroke-opacity:0.1; fill:none\" points=\"\n",
       "  672.919,1487.47 672.919,47.2441 \n",
       "  \"/>\n",
       "<polyline clip-path=\"url(#clip2502)\" style=\"stroke:#000000; stroke-width:2; stroke-opacity:0.1; fill:none\" points=\"\n",
       "  1280.09,1487.47 1280.09,47.2441 \n",
       "  \"/>\n",
       "<polyline clip-path=\"url(#clip2502)\" style=\"stroke:#000000; stroke-width:2; stroke-opacity:0.1; fill:none\" points=\"\n",
       "  1887.26,1487.47 1887.26,47.2441 \n",
       "  \"/>\n",
       "<polyline clip-path=\"url(#clip2502)\" style=\"stroke:#000000; stroke-width:2; stroke-opacity:0.1; fill:none\" points=\"\n",
       "  2292.04,1487.47 2292.04,47.2441 \n",
       "  \"/>\n",
       "<polyline clip-path=\"url(#clip2502)\" style=\"stroke:#000000; stroke-width:2; stroke-opacity:0.1; fill:none\" points=\"\n",
       "  207.423,1166.48 2352.76,1166.48 \n",
       "  \"/>\n",
       "<polyline clip-path=\"url(#clip2502)\" style=\"stroke:#000000; stroke-width:2; stroke-opacity:0.1; fill:none\" points=\"\n",
       "  207.423,827.365 2352.76,827.365 \n",
       "  \"/>\n",
       "<polyline clip-path=\"url(#clip2502)\" style=\"stroke:#000000; stroke-width:2; stroke-opacity:0.1; fill:none\" points=\"\n",
       "  207.423,488.247 2352.76,488.247 \n",
       "  \"/>\n",
       "<polyline clip-path=\"url(#clip2502)\" style=\"stroke:#000000; stroke-width:2; stroke-opacity:0.1; fill:none\" points=\"\n",
       "  207.423,149.128 2352.76,149.128 \n",
       "  \"/>\n",
       "<polyline clip-path=\"url(#clip2500)\" style=\"stroke:#000000; stroke-width:4; stroke-opacity:1; fill:none\" points=\"\n",
       "  207.423,1487.47 2352.76,1487.47 \n",
       "  \"/>\n",
       "<polyline clip-path=\"url(#clip2500)\" style=\"stroke:#000000; stroke-width:4; stroke-opacity:1; fill:none\" points=\"\n",
       "  207.423,1487.47 207.423,47.2441 \n",
       "  \"/>\n",
       "<polyline clip-path=\"url(#clip2500)\" style=\"stroke:#000000; stroke-width:4; stroke-opacity:1; fill:none\" points=\"\n",
       "  672.919,1487.47 672.919,1470.19 \n",
       "  \"/>\n",
       "<polyline clip-path=\"url(#clip2500)\" style=\"stroke:#000000; stroke-width:4; stroke-opacity:1; fill:none\" points=\"\n",
       "  1280.09,1487.47 1280.09,1470.19 \n",
       "  \"/>\n",
       "<polyline clip-path=\"url(#clip2500)\" style=\"stroke:#000000; stroke-width:4; stroke-opacity:1; fill:none\" points=\"\n",
       "  1887.26,1487.47 1887.26,1470.19 \n",
       "  \"/>\n",
       "<polyline clip-path=\"url(#clip2500)\" style=\"stroke:#000000; stroke-width:4; stroke-opacity:1; fill:none\" points=\"\n",
       "  2292.04,1487.47 2292.04,1470.19 \n",
       "  \"/>\n",
       "<polyline clip-path=\"url(#clip2500)\" style=\"stroke:#000000; stroke-width:4; stroke-opacity:1; fill:none\" points=\"\n",
       "  207.423,1166.48 233.167,1166.48 \n",
       "  \"/>\n",
       "<polyline clip-path=\"url(#clip2500)\" style=\"stroke:#000000; stroke-width:4; stroke-opacity:1; fill:none\" points=\"\n",
       "  207.423,827.365 233.167,827.365 \n",
       "  \"/>\n",
       "<polyline clip-path=\"url(#clip2500)\" style=\"stroke:#000000; stroke-width:4; stroke-opacity:1; fill:none\" points=\"\n",
       "  207.423,488.247 233.167,488.247 \n",
       "  \"/>\n",
       "<polyline clip-path=\"url(#clip2500)\" style=\"stroke:#000000; stroke-width:4; stroke-opacity:1; fill:none\" points=\"\n",
       "  207.423,149.128 233.167,149.128 \n",
       "  \"/>\n",
       "<g clip-path=\"url(#clip2500)\">\n",
       "<text style=\"fill:#000000; fill-opacity:1; font-family:Arial,Helvetica Neue,Helvetica,sans-serif; font-size:48px; text-anchor:middle;\" transform=\"rotate(0, 672.919, 1541.47)\" x=\"672.919\" y=\"1541.47\">1.2</text>\n",
       "</g>\n",
       "<g clip-path=\"url(#clip2500)\">\n",
       "<text style=\"fill:#000000; fill-opacity:1; font-family:Arial,Helvetica Neue,Helvetica,sans-serif; font-size:48px; text-anchor:middle;\" transform=\"rotate(0, 1280.09, 1541.47)\" x=\"1280.09\" y=\"1541.47\">1.5</text>\n",
       "</g>\n",
       "<g clip-path=\"url(#clip2500)\">\n",
       "<text style=\"fill:#000000; fill-opacity:1; font-family:Arial,Helvetica Neue,Helvetica,sans-serif; font-size:48px; text-anchor:middle;\" transform=\"rotate(0, 1887.26, 1541.47)\" x=\"1887.26\" y=\"1541.47\">1.8</text>\n",
       "</g>\n",
       "<g clip-path=\"url(#clip2500)\">\n",
       "<text style=\"fill:#000000; fill-opacity:1; font-family:Arial,Helvetica Neue,Helvetica,sans-serif; font-size:48px; text-anchor:middle;\" transform=\"rotate(0, 2292.04, 1541.47)\" x=\"2292.04\" y=\"1541.47\">2.0</text>\n",
       "</g>\n",
       "<g clip-path=\"url(#clip2500)\">\n",
       "<text style=\"fill:#000000; fill-opacity:1; font-family:Arial,Helvetica Neue,Helvetica,sans-serif; font-size:48px; text-anchor:end;\" transform=\"rotate(0, 183.423, 1183.98)\" x=\"183.423\" y=\"1183.98\">0.072</text>\n",
       "</g>\n",
       "<g clip-path=\"url(#clip2500)\">\n",
       "<text style=\"fill:#000000; fill-opacity:1; font-family:Arial,Helvetica Neue,Helvetica,sans-serif; font-size:48px; text-anchor:end;\" transform=\"rotate(0, 183.423, 844.865)\" x=\"183.423\" y=\"844.865\">0.073</text>\n",
       "</g>\n",
       "<g clip-path=\"url(#clip2500)\">\n",
       "<text style=\"fill:#000000; fill-opacity:1; font-family:Arial,Helvetica Neue,Helvetica,sans-serif; font-size:48px; text-anchor:end;\" transform=\"rotate(0, 183.423, 505.747)\" x=\"183.423\" y=\"505.747\">0.074</text>\n",
       "</g>\n",
       "<g clip-path=\"url(#clip2500)\">\n",
       "<text style=\"fill:#000000; fill-opacity:1; font-family:Arial,Helvetica Neue,Helvetica,sans-serif; font-size:48px; text-anchor:end;\" transform=\"rotate(0, 183.423, 166.628)\" x=\"183.423\" y=\"166.628\">0.075</text>\n",
       "</g>\n",
       "<polyline clip-path=\"url(#clip2502)\" style=\"stroke:#009af9; stroke-width:4; stroke-opacity:1; fill:none\" points=\"\n",
       "  268.14,88.0053 2292.04,1446.71 \n",
       "  \"/>\n",
       "<path clip-path=\"url(#clip2500)\" d=\"\n",
       "M1989.93 251.724 L2280.76 251.724 L2280.76 130.764 L1989.93 130.764  Z\n",
       "  \" fill=\"#ffffff\" fill-rule=\"evenodd\" fill-opacity=\"1\"/>\n",
       "<polyline clip-path=\"url(#clip2500)\" style=\"stroke:#000000; stroke-width:4; stroke-opacity:1; fill:none\" points=\"\n",
       "  1989.93,251.724 2280.76,251.724 2280.76,130.764 1989.93,130.764 1989.93,251.724 \n",
       "  \"/>\n",
       "<polyline clip-path=\"url(#clip2500)\" style=\"stroke:#009af9; stroke-width:4; stroke-opacity:1; fill:none\" points=\"\n",
       "  2013.93,191.244 2157.93,191.244 \n",
       "  \"/>\n",
       "<g clip-path=\"url(#clip2500)\">\n",
       "<text style=\"fill:#000000; fill-opacity:1; font-family:Arial,Helvetica Neue,Helvetica,sans-serif; font-size:48px; text-anchor:start;\" transform=\"rotate(0, 2181.93, 208.744)\" x=\"2181.93\" y=\"208.744\">y1</text>\n",
       "</g>\n",
       "</svg>\n"
      ]
     },
     "execution_count": 207,
     "metadata": {},
     "output_type": "execute_result"
    }
   ],
   "source": [
    "using Plots\n",
    "plot(1:epochs, epochs_loss_list)"
   ]
  },
  {
   "cell_type": "markdown",
   "metadata": {},
   "source": [
    "Now lets update the plot as we got through our epochs!"
   ]
  },
  {
   "cell_type": "code",
   "execution_count": 250,
   "metadata": {},
   "outputs": [
    {
     "data": {
      "image/svg+xml": [
       "<?xml version=\"1.0\" encoding=\"utf-8\"?>\n",
       "<svg xmlns=\"http://www.w3.org/2000/svg\" xmlns:xlink=\"http://www.w3.org/1999/xlink\" width=\"600\" height=\"400\" viewBox=\"0 0 2400 1600\">\n",
       "<defs>\n",
       "  <clipPath id=\"clip2600\">\n",
       "    <rect x=\"0\" y=\"0\" width=\"2400\" height=\"1600\"/>\n",
       "  </clipPath>\n",
       "</defs>\n",
       "<path clip-path=\"url(#clip2600)\" d=\"\n",
       "M0 1600 L2400 1600 L2400 0 L0 0  Z\n",
       "  \" fill=\"#ffffff\" fill-rule=\"evenodd\" fill-opacity=\"1\"/>\n",
       "<defs>\n",
       "  <clipPath id=\"clip2601\">\n",
       "    <rect x=\"480\" y=\"0\" width=\"1681\" height=\"1600\"/>\n",
       "  </clipPath>\n",
       "</defs>\n",
       "<path clip-path=\"url(#clip2600)\" d=\"\n",
       "M207.423 1487.47 L2352.76 1487.47 L2352.76 47.2441 L207.423 47.2441  Z\n",
       "  \" fill=\"#ffffff\" fill-rule=\"evenodd\" fill-opacity=\"1\"/>\n",
       "<defs>\n",
       "  <clipPath id=\"clip2602\">\n",
       "    <rect x=\"207\" y=\"47\" width=\"2146\" height=\"1441\"/>\n",
       "  </clipPath>\n",
       "</defs>\n",
       "<polyline clip-path=\"url(#clip2602)\" style=\"stroke:#000000; stroke-width:2; stroke-opacity:0.1; fill:none\" points=\"\n",
       "  268.14,1487.47 268.14,47.2441 \n",
       "  \"/>\n",
       "<polyline clip-path=\"url(#clip2602)\" style=\"stroke:#000000; stroke-width:2; stroke-opacity:0.1; fill:none\" points=\"\n",
       "  774.114,1487.47 774.114,47.2441 \n",
       "  \"/>\n",
       "<polyline clip-path=\"url(#clip2602)\" style=\"stroke:#000000; stroke-width:2; stroke-opacity:0.1; fill:none\" points=\"\n",
       "  1280.09,1487.47 1280.09,47.2441 \n",
       "  \"/>\n",
       "<polyline clip-path=\"url(#clip2602)\" style=\"stroke:#000000; stroke-width:2; stroke-opacity:0.1; fill:none\" points=\"\n",
       "  1786.06,1487.47 1786.06,47.2441 \n",
       "  \"/>\n",
       "<polyline clip-path=\"url(#clip2602)\" style=\"stroke:#000000; stroke-width:2; stroke-opacity:0.1; fill:none\" points=\"\n",
       "  2292.04,1487.47 2292.04,47.2441 \n",
       "  \"/>\n",
       "<polyline clip-path=\"url(#clip2602)\" style=\"stroke:#000000; stroke-width:2; stroke-opacity:0.1; fill:none\" points=\"\n",
       "  207.423,1408.01 2352.76,1408.01 \n",
       "  \"/>\n",
       "<polyline clip-path=\"url(#clip2602)\" style=\"stroke:#000000; stroke-width:2; stroke-opacity:0.1; fill:none\" points=\"\n",
       "  207.423,1014.71 2352.76,1014.71 \n",
       "  \"/>\n",
       "<polyline clip-path=\"url(#clip2602)\" style=\"stroke:#000000; stroke-width:2; stroke-opacity:0.1; fill:none\" points=\"\n",
       "  207.423,621.408 2352.76,621.408 \n",
       "  \"/>\n",
       "<polyline clip-path=\"url(#clip2602)\" style=\"stroke:#000000; stroke-width:2; stroke-opacity:0.1; fill:none\" points=\"\n",
       "  207.423,228.106 2352.76,228.106 \n",
       "  \"/>\n",
       "<polyline clip-path=\"url(#clip2600)\" style=\"stroke:#000000; stroke-width:4; stroke-opacity:1; fill:none\" points=\"\n",
       "  207.423,1487.47 2352.76,1487.47 \n",
       "  \"/>\n",
       "<polyline clip-path=\"url(#clip2600)\" style=\"stroke:#000000; stroke-width:4; stroke-opacity:1; fill:none\" points=\"\n",
       "  207.423,1487.47 207.423,47.2441 \n",
       "  \"/>\n",
       "<polyline clip-path=\"url(#clip2600)\" style=\"stroke:#000000; stroke-width:4; stroke-opacity:1; fill:none\" points=\"\n",
       "  268.14,1487.47 268.14,1470.19 \n",
       "  \"/>\n",
       "<polyline clip-path=\"url(#clip2600)\" style=\"stroke:#000000; stroke-width:4; stroke-opacity:1; fill:none\" points=\"\n",
       "  774.114,1487.47 774.114,1470.19 \n",
       "  \"/>\n",
       "<polyline clip-path=\"url(#clip2600)\" style=\"stroke:#000000; stroke-width:4; stroke-opacity:1; fill:none\" points=\"\n",
       "  1280.09,1487.47 1280.09,1470.19 \n",
       "  \"/>\n",
       "<polyline clip-path=\"url(#clip2600)\" style=\"stroke:#000000; stroke-width:4; stroke-opacity:1; fill:none\" points=\"\n",
       "  1786.06,1487.47 1786.06,1470.19 \n",
       "  \"/>\n",
       "<polyline clip-path=\"url(#clip2600)\" style=\"stroke:#000000; stroke-width:4; stroke-opacity:1; fill:none\" points=\"\n",
       "  2292.04,1487.47 2292.04,1470.19 \n",
       "  \"/>\n",
       "<polyline clip-path=\"url(#clip2600)\" style=\"stroke:#000000; stroke-width:4; stroke-opacity:1; fill:none\" points=\"\n",
       "  207.423,1408.01 233.167,1408.01 \n",
       "  \"/>\n",
       "<polyline clip-path=\"url(#clip2600)\" style=\"stroke:#000000; stroke-width:4; stroke-opacity:1; fill:none\" points=\"\n",
       "  207.423,1014.71 233.167,1014.71 \n",
       "  \"/>\n",
       "<polyline clip-path=\"url(#clip2600)\" style=\"stroke:#000000; stroke-width:4; stroke-opacity:1; fill:none\" points=\"\n",
       "  207.423,621.408 233.167,621.408 \n",
       "  \"/>\n",
       "<polyline clip-path=\"url(#clip2600)\" style=\"stroke:#000000; stroke-width:4; stroke-opacity:1; fill:none\" points=\"\n",
       "  207.423,228.106 233.167,228.106 \n",
       "  \"/>\n",
       "<g clip-path=\"url(#clip2600)\">\n",
       "<text style=\"fill:#000000; fill-opacity:1; font-family:Arial,Helvetica Neue,Helvetica,sans-serif; font-size:48px; text-anchor:middle;\" transform=\"rotate(0, 268.14, 1541.47)\" x=\"268.14\" y=\"1541.47\">1</text>\n",
       "</g>\n",
       "<g clip-path=\"url(#clip2600)\">\n",
       "<text style=\"fill:#000000; fill-opacity:1; font-family:Arial,Helvetica Neue,Helvetica,sans-serif; font-size:48px; text-anchor:middle;\" transform=\"rotate(0, 774.114, 1541.47)\" x=\"774.114\" y=\"1541.47\">2</text>\n",
       "</g>\n",
       "<g clip-path=\"url(#clip2600)\">\n",
       "<text style=\"fill:#000000; fill-opacity:1; font-family:Arial,Helvetica Neue,Helvetica,sans-serif; font-size:48px; text-anchor:middle;\" transform=\"rotate(0, 1280.09, 1541.47)\" x=\"1280.09\" y=\"1541.47\">3</text>\n",
       "</g>\n",
       "<g clip-path=\"url(#clip2600)\">\n",
       "<text style=\"fill:#000000; fill-opacity:1; font-family:Arial,Helvetica Neue,Helvetica,sans-serif; font-size:48px; text-anchor:middle;\" transform=\"rotate(0, 1786.06, 1541.47)\" x=\"1786.06\" y=\"1541.47\">4</text>\n",
       "</g>\n",
       "<g clip-path=\"url(#clip2600)\">\n",
       "<text style=\"fill:#000000; fill-opacity:1; font-family:Arial,Helvetica Neue,Helvetica,sans-serif; font-size:48px; text-anchor:middle;\" transform=\"rotate(0, 2292.04, 1541.47)\" x=\"2292.04\" y=\"1541.47\">5</text>\n",
       "</g>\n",
       "<g clip-path=\"url(#clip2600)\">\n",
       "<text style=\"fill:#000000; fill-opacity:1; font-family:Arial,Helvetica Neue,Helvetica,sans-serif; font-size:48px; text-anchor:end;\" transform=\"rotate(0, 183.423, 1425.51)\" x=\"183.423\" y=\"1425.51\">0.062</text>\n",
       "</g>\n",
       "<g clip-path=\"url(#clip2600)\">\n",
       "<text style=\"fill:#000000; fill-opacity:1; font-family:Arial,Helvetica Neue,Helvetica,sans-serif; font-size:48px; text-anchor:end;\" transform=\"rotate(0, 183.423, 1032.21)\" x=\"183.423\" y=\"1032.21\">0.063</text>\n",
       "</g>\n",
       "<g clip-path=\"url(#clip2600)\">\n",
       "<text style=\"fill:#000000; fill-opacity:1; font-family:Arial,Helvetica Neue,Helvetica,sans-serif; font-size:48px; text-anchor:end;\" transform=\"rotate(0, 183.423, 638.908)\" x=\"183.423\" y=\"638.908\">0.064</text>\n",
       "</g>\n",
       "<g clip-path=\"url(#clip2600)\">\n",
       "<text style=\"fill:#000000; fill-opacity:1; font-family:Arial,Helvetica Neue,Helvetica,sans-serif; font-size:48px; text-anchor:end;\" transform=\"rotate(0, 183.423, 245.606)\" x=\"183.423\" y=\"245.606\">0.065</text>\n",
       "</g>\n",
       "<polyline clip-path=\"url(#clip2602)\" style=\"stroke:#009af9; stroke-width:4; stroke-opacity:1; fill:none\" points=\"\n",
       "  268.14,1446.71 774.114,234.478 1280.09,189.412 1786.06,131.866 2292.04,88.0053 \n",
       "  \"/>\n",
       "<path clip-path=\"url(#clip2600)\" d=\"\n",
       "M1989.93 251.724 L2280.76 251.724 L2280.76 130.764 L1989.93 130.764  Z\n",
       "  \" fill=\"#ffffff\" fill-rule=\"evenodd\" fill-opacity=\"1\"/>\n",
       "<polyline clip-path=\"url(#clip2600)\" style=\"stroke:#000000; stroke-width:4; stroke-opacity:1; fill:none\" points=\"\n",
       "  1989.93,251.724 2280.76,251.724 2280.76,130.764 1989.93,130.764 1989.93,251.724 \n",
       "  \"/>\n",
       "<polyline clip-path=\"url(#clip2600)\" style=\"stroke:#009af9; stroke-width:4; stroke-opacity:1; fill:none\" points=\"\n",
       "  2013.93,191.244 2157.93,191.244 \n",
       "  \"/>\n",
       "<g clip-path=\"url(#clip2600)\">\n",
       "<text style=\"fill:#000000; fill-opacity:1; font-family:Arial,Helvetica Neue,Helvetica,sans-serif; font-size:48px; text-anchor:start;\" transform=\"rotate(0, 2181.93, 208.744)\" x=\"2181.93\" y=\"208.744\">y1</text>\n",
       "</g>\n",
       "</svg>\n"
      ]
     },
     "metadata": {},
     "output_type": "display_data"
    }
   ],
   "source": [
    "epochs = 10\n",
    "epochs_loss_list = Vector{Float64}()\n",
    "\n",
    "for epoch in 1:epochs\n",
    "    for batch in train_data\n",
    "    \n",
    "        gradient = Flux.gradient(ps) do\n",
    "          training_loss = loss(batch...)\n",
    "          return training_loss\n",
    "        end\n",
    "\n",
    "        Flux.update!(opt, ps, gradient)\n",
    "    end\n",
    "    \n",
    "    push!(epochs_loss_list, loss(x_train, y_train))\n",
    "    IJulia.clear_output(true) #This will clear the output before plotting next epoch.\n",
    "    display(plot(1:epoch, epochs_loss_list, legend=false))\n",
    "end"
   ]
  },
  {
   "cell_type": "code",
   "execution_count": 258,
   "metadata": {},
   "outputs": [
    {
     "data": {
      "text/plain": [
       "0.9792666666666666"
      ]
     },
     "execution_count": 258,
     "metadata": {},
     "output_type": "execute_result"
    }
   ],
   "source": [
    "accuracy(model(x_train), y_train)"
   ]
  }
 ],
 "metadata": {
  "kernelspec": {
   "display_name": "Julia 1.3.0",
   "language": "julia",
   "name": "julia-1.3"
  },
  "language_info": {
   "file_extension": ".jl",
   "mimetype": "application/julia",
   "name": "julia",
   "version": "1.3.0"
  }
 },
 "nbformat": 4,
 "nbformat_minor": 4
}
