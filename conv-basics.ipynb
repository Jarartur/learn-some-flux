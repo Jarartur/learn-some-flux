{
 "cells": [
  {
   "cell_type": "markdown",
   "metadata": {},
   "source": [
    "# Basic convolutional network for MNIST classification tutorial"
   ]
  },
  {
   "cell_type": "markdown",
   "metadata": {},
   "source": [
    "## Libraries"
   ]
  },
  {
   "cell_type": "markdown",
   "metadata": {},
   "source": [
    "First we will load some libraries. We will need **Flux** *(obviously)*, from which we import the MNIST dataset, our loss function and tools for onehot encoding the labels and creating minibatches. We will also use **Statistics** for calculating accuracy."
   ]
  },
  {
   "cell_type": "code",
   "execution_count": 85,
   "metadata": {},
   "outputs": [
    {
     "name": "stderr",
     "output_type": "stream",
     "text": [
      "WARNING: ignoring conflicting import of Data.MNIST into Main\n"
     ]
    }
   ],
   "source": [
    "using Flux\n",
    "using Flux: Data.MNIST, Data.DataLoader\n",
    "using Flux: onehotbatch, onecold, crossentropy\n",
    "using Statistics\n",
    "using MLDatasets"
   ]
  },
  {
   "cell_type": "markdown",
   "metadata": {},
   "source": [
    "## Loading and transforming dataset"
   ]
  },
  {
   "cell_type": "markdown",
   "metadata": {},
   "source": [
    "Now we will import the MNIST dataset."
   ]
  },
  {
   "cell_type": "code",
   "execution_count": 101,
   "metadata": {},
   "outputs": [],
   "source": [
    "x_train, y_train = MNIST.traindata()\n",
    "x_valid, y_valid = MNIST.testdata();"
   ]
  },
  {
   "cell_type": "code",
   "execution_count": 102,
   "metadata": {
    "collapsed": true,
    "jupyter": {
     "outputs_hidden": true
    }
   },
   "outputs": [
    {
     "data": {
      "text/plain": [
       "28×28×1×10000 reshape(reinterpret(N0f8, ::Array{UInt8,3}), 28, 28, 1, 10000) with eltype Normed{UInt8,8}:\n",
       "[:, :, 1, 1] =\n",
       " 0.0  0.0  0.0  0.0  0.0  0.0  0.0  0.0    …  0.0    0.0    0.0    0.0    0.0\n",
       " 0.0  0.0  0.0  0.0  0.0  0.0  0.0  0.0       0.0    0.0    0.0    0.0    0.0\n",
       " 0.0  0.0  0.0  0.0  0.0  0.0  0.0  0.0       0.0    0.0    0.0    0.0    0.0\n",
       " 0.0  0.0  0.0  0.0  0.0  0.0  0.0  0.0       0.0    0.0    0.0    0.0    0.0\n",
       " 0.0  0.0  0.0  0.0  0.0  0.0  0.0  0.0       0.0    0.0    0.0    0.0    0.0\n",
       " 0.0  0.0  0.0  0.0  0.0  0.0  0.0  0.0    …  0.0    0.0    0.0    0.0    0.0\n",
       " 0.0  0.0  0.0  0.0  0.0  0.0  0.0  0.329     0.0    0.0    0.0    0.0    0.0\n",
       " 0.0  0.0  0.0  0.0  0.0  0.0  0.0  0.725     0.0    0.0    0.0    0.0    0.0\n",
       " 0.0  0.0  0.0  0.0  0.0  0.0  0.0  0.624     0.0    0.0    0.0    0.0    0.0\n",
       " 0.0  0.0  0.0  0.0  0.0  0.0  0.0  0.592     0.0    0.0    0.0    0.0    0.0\n",
       " 0.0  0.0  0.0  0.0  0.0  0.0  0.0  0.235  …  0.0    0.239  0.475  0.475  0.0\n",
       " 0.0  0.0  0.0  0.0  0.0  0.0  0.0  0.141     0.522  0.949  0.996  0.996  0.0\n",
       " 0.0  0.0  0.0  0.0  0.0  0.0  0.0  0.0       0.996  0.996  0.996  0.812  0.0\n",
       " ⋮                        ⋮                ⋱                ⋮                \n",
       " 0.0  0.0  0.0  0.0  0.0  0.0  0.0  0.0       0.0    0.0    0.0    0.0    0.0\n",
       " 0.0  0.0  0.0  0.0  0.0  0.0  0.0  0.0       0.0    0.0    0.0    0.0    0.0\n",
       " 0.0  0.0  0.0  0.0  0.0  0.0  0.0  0.0       0.0    0.0    0.0    0.0    0.0\n",
       " 0.0  0.0  0.0  0.0  0.0  0.0  0.0  0.0       0.0    0.0    0.0    0.0    0.0\n",
       " 0.0  0.0  0.0  0.0  0.0  0.0  0.0  0.0    …  0.0    0.0    0.0    0.0    0.0\n",
       " 0.0  0.0  0.0  0.0  0.0  0.0  0.0  0.0       0.0    0.0    0.0    0.0    0.0\n",
       " 0.0  0.0  0.0  0.0  0.0  0.0  0.0  0.0       0.0    0.0    0.0    0.0    0.0\n",
       " 0.0  0.0  0.0  0.0  0.0  0.0  0.0  0.0       0.0    0.0    0.0    0.0    0.0\n",
       " 0.0  0.0  0.0  0.0  0.0  0.0  0.0  0.0       0.0    0.0    0.0    0.0    0.0\n",
       " 0.0  0.0  0.0  0.0  0.0  0.0  0.0  0.0    …  0.0    0.0    0.0    0.0    0.0\n",
       " 0.0  0.0  0.0  0.0  0.0  0.0  0.0  0.0       0.0    0.0    0.0    0.0    0.0\n",
       " 0.0  0.0  0.0  0.0  0.0  0.0  0.0  0.0       0.0    0.0    0.0    0.0    0.0\n",
       "\n",
       "[:, :, 1, 2] =\n",
       " 0.0  0.0  0.0  0.0    0.0    0.0    0.0    …  0.0    0.0  0.0  0.0  0.0  0.0\n",
       " 0.0  0.0  0.0  0.0    0.0    0.0    0.0       0.0    0.0  0.0  0.0  0.0  0.0\n",
       " 0.0  0.0  0.0  0.0    0.0    0.0    0.0       0.0    0.0  0.0  0.0  0.0  0.0\n",
       " 0.0  0.0  0.0  0.0    0.0    0.0    0.0       0.0    0.0  0.0  0.0  0.0  0.0\n",
       " 0.0  0.0  0.0  0.0    0.0    0.0    0.0       0.0    0.0  0.0  0.0  0.0  0.0\n",
       " 0.0  0.0  0.0  0.0    0.0    0.0    0.0    …  0.0    0.0  0.0  0.0  0.0  0.0\n",
       " 0.0  0.0  0.0  0.0    0.0    0.0    0.0       0.0    0.0  0.0  0.0  0.0  0.0\n",
       " 0.0  0.0  0.0  0.0    0.0    0.0    0.204     0.0    0.0  0.0  0.0  0.0  0.0\n",
       " 0.0  0.0  0.0  0.0    0.0    0.663  0.98      0.0    0.0  0.0  0.0  0.0  0.0\n",
       " 0.0  0.0  0.0  0.0    0.663  0.992  0.992     0.463  0.0  0.0  0.0  0.0  0.0\n",
       " 0.0  0.0  0.0  0.455  0.992  0.992  0.824  …  0.482  0.0  0.0  0.0  0.0  0.0\n",
       " 0.0  0.0  0.0  0.49   0.992  0.992  0.125     0.482  0.0  0.0  0.0  0.0  0.0\n",
       " 0.0  0.0  0.0  0.671  0.992  0.835  0.047     0.482  0.0  0.0  0.0  0.0  0.0\n",
       " ⋮                            ⋮             ⋱                   ⋮            \n",
       " 0.0  0.0  0.0  0.365  0.855  0.992  0.992     0.992  0.0  0.0  0.0  0.0  0.0\n",
       " 0.0  0.0  0.0  0.0    0.118  0.478  0.549     0.608  0.0  0.0  0.0  0.0  0.0\n",
       " 0.0  0.0  0.0  0.0    0.0    0.0    0.0       0.482  0.0  0.0  0.0  0.0  0.0\n",
       " 0.0  0.0  0.0  0.0    0.0    0.0    0.0       0.482  0.0  0.0  0.0  0.0  0.0\n",
       " 0.0  0.0  0.0  0.0    0.0    0.0    0.0    …  0.161  0.0  0.0  0.0  0.0  0.0\n",
       " 0.0  0.0  0.0  0.0    0.0    0.0    0.0       0.0    0.0  0.0  0.0  0.0  0.0\n",
       " 0.0  0.0  0.0  0.0    0.0    0.0    0.0       0.0    0.0  0.0  0.0  0.0  0.0\n",
       " 0.0  0.0  0.0  0.0    0.0    0.0    0.0       0.0    0.0  0.0  0.0  0.0  0.0\n",
       " 0.0  0.0  0.0  0.0    0.0    0.0    0.0       0.0    0.0  0.0  0.0  0.0  0.0\n",
       " 0.0  0.0  0.0  0.0    0.0    0.0    0.0    …  0.0    0.0  0.0  0.0  0.0  0.0\n",
       " 0.0  0.0  0.0  0.0    0.0    0.0    0.0       0.0    0.0  0.0  0.0  0.0  0.0\n",
       " 0.0  0.0  0.0  0.0    0.0    0.0    0.0       0.0    0.0  0.0  0.0  0.0  0.0\n",
       "\n",
       "[:, :, 1, 3] =\n",
       " 0.0  0.0  0.0  0.0  0.0    0.0    0.0    …  0.0    0.0    0.0  0.0  0.0  0.0\n",
       " 0.0  0.0  0.0  0.0  0.0    0.0    0.0       0.0    0.0    0.0  0.0  0.0  0.0\n",
       " 0.0  0.0  0.0  0.0  0.0    0.0    0.0       0.0    0.0    0.0  0.0  0.0  0.0\n",
       " 0.0  0.0  0.0  0.0  0.0    0.0    0.0       0.0    0.0    0.0  0.0  0.0  0.0\n",
       " 0.0  0.0  0.0  0.0  0.0    0.0    0.0       0.0    0.0    0.0  0.0  0.0  0.0\n",
       " 0.0  0.0  0.0  0.0  0.0    0.0    0.0    …  0.0    0.0    0.0  0.0  0.0  0.0\n",
       " 0.0  0.0  0.0  0.0  0.0    0.0    0.0       0.0    0.0    0.0  0.0  0.0  0.0\n",
       " 0.0  0.0  0.0  0.0  0.0    0.0    0.0       0.0    0.0    0.0  0.0  0.0  0.0\n",
       " 0.0  0.0  0.0  0.0  0.0    0.0    0.0       0.0    0.0    0.0  0.0  0.0  0.0\n",
       " 0.0  0.0  0.0  0.0  0.0    0.0    0.0       0.0    0.0    0.0  0.0  0.0  0.0\n",
       " 0.0  0.0  0.0  0.0  0.0    0.0    0.0    …  0.039  0.02   0.0  0.0  0.0  0.0\n",
       " 0.0  0.0  0.0  0.0  0.0    0.0    0.0       0.843  0.776  0.0  0.0  0.0  0.0\n",
       " 0.0  0.0  0.0  0.0  0.0    0.0    0.0       0.996  0.69   0.0  0.0  0.0  0.0\n",
       " ⋮                          ⋮             ⋱                     ⋮            \n",
       " 0.0  0.0  0.0  0.0  0.149  0.341  0.529     0.0    0.0    0.0  0.0  0.0  0.0\n",
       " 0.0  0.0  0.0  0.0  0.996  0.988  0.945     0.0    0.0    0.0  0.0  0.0  0.0\n",
       " 0.0  0.0  0.0  0.0  0.427  0.322  0.0       0.0    0.0    0.0  0.0  0.0  0.0\n",
       " 0.0  0.0  0.0  0.0  0.0    0.0    0.0       0.0    0.0    0.0  0.0  0.0  0.0\n",
       " 0.0  0.0  0.0  0.0  0.0    0.0    0.0    …  0.0    0.0    0.0  0.0  0.0  0.0\n",
       " 0.0  0.0  0.0  0.0  0.0    0.0    0.0       0.0    0.0    0.0  0.0  0.0  0.0\n",
       " 0.0  0.0  0.0  0.0  0.0    0.0    0.0       0.0    0.0    0.0  0.0  0.0  0.0\n",
       " 0.0  0.0  0.0  0.0  0.0    0.0    0.0       0.0    0.0    0.0  0.0  0.0  0.0\n",
       " 0.0  0.0  0.0  0.0  0.0    0.0    0.0       0.0    0.0    0.0  0.0  0.0  0.0\n",
       " 0.0  0.0  0.0  0.0  0.0    0.0    0.0    …  0.0    0.0    0.0  0.0  0.0  0.0\n",
       " 0.0  0.0  0.0  0.0  0.0    0.0    0.0       0.0    0.0    0.0  0.0  0.0  0.0\n",
       " 0.0  0.0  0.0  0.0  0.0    0.0    0.0       0.0    0.0    0.0  0.0  0.0  0.0\n",
       "\n",
       "...\n",
       "\n",
       "[:, :, 1, 9998] =\n",
       " 0.0  0.0  0.0  0.0  0.0  0.0  0.0    0.0    …  0.0    0.0    0.0    0.0  0.0\n",
       " 0.0  0.0  0.0  0.0  0.0  0.0  0.0    0.0       0.0    0.0    0.0    0.0  0.0\n",
       " 0.0  0.0  0.0  0.0  0.0  0.0  0.0    0.0       0.0    0.0    0.0    0.0  0.0\n",
       " 0.0  0.0  0.0  0.0  0.0  0.0  0.0    0.0       0.0    0.0    0.0    0.0  0.0\n",
       " 0.0  0.0  0.0  0.0  0.0  0.0  0.0    0.0       0.0    0.0    0.0    0.0  0.0\n",
       " 0.0  0.0  0.0  0.0  0.0  0.0  0.0    0.0    …  0.0    0.0    0.0    0.0  0.0\n",
       " 0.0  0.0  0.0  0.0  0.0  0.0  0.0    0.0       0.0    0.0    0.0    0.0  0.0\n",
       " 0.0  0.0  0.0  0.0  0.0  0.0  0.0    0.0       0.0    0.0    0.0    0.0  0.0\n",
       " 0.0  0.0  0.0  0.0  0.0  0.0  0.0    0.0       0.0    0.0    0.0    0.0  0.0\n",
       " 0.0  0.0  0.0  0.0  0.0  0.0  0.0    0.0       0.0    0.0    0.0    0.0  0.0\n",
       " 0.0  0.0  0.0  0.0  0.0  0.0  0.0    0.008  …  0.635  0.635  0.4    0.0  0.0\n",
       " 0.0  0.0  0.0  0.0  0.0  0.0  0.09   0.455     0.996  0.996  1.0    0.0  0.0\n",
       " 0.0  0.0  0.0  0.0  0.0  0.0  0.851  0.996     0.996  0.996  0.902  0.0  0.0\n",
       " ⋮                        ⋮                  ⋱                ⋮              \n",
       " 0.0  0.0  0.0  0.0  0.0  0.0  0.0    0.0       0.0    0.0    0.0    0.0  0.0\n",
       " 0.0  0.0  0.0  0.0  0.0  0.0  0.0    0.0       0.0    0.0    0.0    0.0  0.0\n",
       " 0.0  0.0  0.0  0.0  0.0  0.0  0.0    0.212     0.0    0.0    0.0    0.0  0.0\n",
       " 0.0  0.0  0.0  0.0  0.0  0.0  0.443  0.933     0.0    0.0    0.0    0.0  0.0\n",
       " 0.0  0.0  0.0  0.0  0.0  0.0  0.945  0.996  …  0.0    0.0    0.0    0.0  0.0\n",
       " 0.0  0.0  0.0  0.0  0.0  0.0  0.573  0.094     0.0    0.0    0.0    0.0  0.0\n",
       " 0.0  0.0  0.0  0.0  0.0  0.0  0.0    0.0       0.0    0.0    0.0    0.0  0.0\n",
       " 0.0  0.0  0.0  0.0  0.0  0.0  0.0    0.0       0.0    0.0    0.0    0.0  0.0\n",
       " 0.0  0.0  0.0  0.0  0.0  0.0  0.0    0.0       0.0    0.0    0.0    0.0  0.0\n",
       " 0.0  0.0  0.0  0.0  0.0  0.0  0.0    0.0    …  0.0    0.0    0.0    0.0  0.0\n",
       " 0.0  0.0  0.0  0.0  0.0  0.0  0.0    0.0       0.0    0.0    0.0    0.0  0.0\n",
       " 0.0  0.0  0.0  0.0  0.0  0.0  0.0    0.0       0.0    0.0    0.0    0.0  0.0\n",
       "\n",
       "[:, :, 1, 9999] =\n",
       " 0.0  0.0  0.0  0.0  0.0  0.0  0.0  0.0  …  0.0    0.0    0.0  0.0  0.0  0.0\n",
       " 0.0  0.0  0.0  0.0  0.0  0.0  0.0  0.0     0.0    0.0    0.0  0.0  0.0  0.0\n",
       " 0.0  0.0  0.0  0.0  0.0  0.0  0.0  0.0     0.0    0.0    0.0  0.0  0.0  0.0\n",
       " 0.0  0.0  0.0  0.0  0.0  0.0  0.0  0.0     0.0    0.0    0.0  0.0  0.0  0.0\n",
       " 0.0  0.0  0.0  0.0  0.0  0.0  0.0  0.0     0.0    0.0    0.0  0.0  0.0  0.0\n",
       " 0.0  0.0  0.0  0.0  0.0  0.0  0.0  0.0  …  0.0    0.0    0.0  0.0  0.0  0.0\n",
       " 0.0  0.0  0.0  0.0  0.0  0.0  0.0  0.0     0.0    0.0    0.0  0.0  0.0  0.0\n",
       " 0.0  0.0  0.0  0.0  0.0  0.0  0.0  0.0     0.0    0.0    0.0  0.0  0.0  0.0\n",
       " 0.0  0.0  0.0  0.0  0.0  0.0  0.0  0.0     0.0    0.0    0.0  0.0  0.0  0.0\n",
       " 0.0  0.0  0.0  0.0  0.0  0.0  0.0  0.0     0.38   0.0    0.0  0.0  0.0  0.0\n",
       " 0.0  0.0  0.0  0.0  0.0  0.0  0.0  0.0  …  0.761  0.012  0.0  0.0  0.0  0.0\n",
       " 0.0  0.0  0.0  0.0  0.0  0.0  0.0  0.0     0.996  0.38   0.0  0.0  0.0  0.0\n",
       " 0.0  0.0  0.0  0.0  0.0  0.0  0.0  0.0     0.996  0.404  0.0  0.0  0.0  0.0\n",
       " ⋮                        ⋮              ⋱                     ⋮            \n",
       " 0.0  0.0  0.0  0.0  0.0  0.0  0.0  0.0     0.0    0.0    0.0  0.0  0.0  0.0\n",
       " 0.0  0.0  0.0  0.0  0.0  0.0  0.0  0.0     0.0    0.0    0.0  0.0  0.0  0.0\n",
       " 0.0  0.0  0.0  0.0  0.0  0.0  0.0  0.0     0.0    0.0    0.0  0.0  0.0  0.0\n",
       " 0.0  0.0  0.0  0.0  0.0  0.0  0.0  0.0     0.0    0.0    0.0  0.0  0.0  0.0\n",
       " 0.0  0.0  0.0  0.0  0.0  0.0  0.0  0.0  …  0.0    0.0    0.0  0.0  0.0  0.0\n",
       " 0.0  0.0  0.0  0.0  0.0  0.0  0.0  0.0     0.0    0.0    0.0  0.0  0.0  0.0\n",
       " 0.0  0.0  0.0  0.0  0.0  0.0  0.0  0.0     0.0    0.0    0.0  0.0  0.0  0.0\n",
       " 0.0  0.0  0.0  0.0  0.0  0.0  0.0  0.0     0.0    0.0    0.0  0.0  0.0  0.0\n",
       " 0.0  0.0  0.0  0.0  0.0  0.0  0.0  0.0     0.0    0.0    0.0  0.0  0.0  0.0\n",
       " 0.0  0.0  0.0  0.0  0.0  0.0  0.0  0.0  …  0.0    0.0    0.0  0.0  0.0  0.0\n",
       " 0.0  0.0  0.0  0.0  0.0  0.0  0.0  0.0     0.0    0.0    0.0  0.0  0.0  0.0\n",
       " 0.0  0.0  0.0  0.0  0.0  0.0  0.0  0.0     0.0    0.0    0.0  0.0  0.0  0.0\n",
       "\n",
       "[:, :, 1, 10000] =\n",
       " 0.0  0.0  0.0    0.0    0.0    0.0    …  0.0    0.0  0.0  0.0  0.0  0.0  0.0\n",
       " 0.0  0.0  0.0    0.0    0.0    0.0       0.0    0.0  0.0  0.0  0.0  0.0  0.0\n",
       " 0.0  0.0  0.0    0.0    0.0    0.0       0.0    0.0  0.0  0.0  0.0  0.0  0.0\n",
       " 0.0  0.0  0.0    0.0    0.0    0.0       0.0    0.0  0.0  0.0  0.0  0.0  0.0\n",
       " 0.0  0.0  0.0    0.0    0.0    0.0       0.0    0.0  0.0  0.0  0.0  0.0  0.0\n",
       " 0.0  0.0  0.0    0.0    0.0    0.0    …  0.0    0.0  0.0  0.0  0.0  0.0  0.0\n",
       " 0.0  0.0  0.0    0.0    0.0    0.0       0.0    0.0  0.0  0.0  0.0  0.0  0.0\n",
       " 0.0  0.0  0.0    0.0    0.0    0.0       0.027  0.0  0.0  0.0  0.0  0.0  0.0\n",
       " 0.0  0.0  0.0    0.0    0.0    0.0       0.137  0.0  0.0  0.0  0.0  0.0  0.0\n",
       " 0.0  0.0  0.0    0.0    0.0    0.0       0.518  0.0  0.0  0.0  0.0  0.0  0.0\n",
       " 0.0  0.0  0.0    0.0    0.0    0.0    …  0.882  0.0  0.0  0.0  0.0  0.0  0.0\n",
       " 0.0  0.0  0.0    0.0    0.0    0.157     0.992  0.0  0.0  0.0  0.0  0.0  0.0\n",
       " 0.0  0.0  0.0    0.0    0.0    0.376     0.992  0.0  0.0  0.0  0.0  0.0  0.0\n",
       " ⋮                              ⋮      ⋱                        ⋮            \n",
       " 0.0  0.0  0.0    0.373  0.992  0.992     0.518  0.0  0.0  0.0  0.0  0.0  0.0\n",
       " 0.0  0.0  0.031  0.831  0.992  0.992     0.518  0.0  0.0  0.0  0.0  0.0  0.0\n",
       " 0.0  0.0  0.459  0.992  0.992  0.776     0.431  0.0  0.0  0.0  0.0  0.0  0.0\n",
       " 0.0  0.0  0.996  0.992  0.961  0.251     0.016  0.0  0.0  0.0  0.0  0.0  0.0\n",
       " 0.0  0.0  0.863  0.992  0.49   0.0    …  0.0    0.0  0.0  0.0  0.0  0.0  0.0\n",
       " 0.0  0.0  0.349  0.616  0.071  0.0       0.0    0.0  0.0  0.0  0.0  0.0  0.0\n",
       " 0.0  0.0  0.0    0.0    0.0    0.0       0.0    0.0  0.0  0.0  0.0  0.0  0.0\n",
       " 0.0  0.0  0.0    0.0    0.0    0.0       0.0    0.0  0.0  0.0  0.0  0.0  0.0\n",
       " 0.0  0.0  0.0    0.0    0.0    0.0       0.0    0.0  0.0  0.0  0.0  0.0  0.0\n",
       " 0.0  0.0  0.0    0.0    0.0    0.0    …  0.0    0.0  0.0  0.0  0.0  0.0  0.0\n",
       " 0.0  0.0  0.0    0.0    0.0    0.0       0.0    0.0  0.0  0.0  0.0  0.0  0.0\n",
       " 0.0  0.0  0.0    0.0    0.0    0.0       0.0    0.0  0.0  0.0  0.0  0.0  0.0"
      ]
     },
     "execution_count": 102,
     "metadata": {},
     "output_type": "execute_result"
    }
   ],
   "source": [
    "x_train = Flux.unsqueeze(x_train, 3)\n",
    "x_valid = Flux.unsqueeze(x_valid, 3);"
   ]
  },
  {
   "cell_type": "markdown",
   "metadata": {},
   "source": [
    "Then we will onehot encode our training and test labels"
   ]
  },
  {
   "cell_type": "code",
   "execution_count": 103,
   "metadata": {
    "collapsed": true,
    "jupyter": {
     "outputs_hidden": true
    }
   },
   "outputs": [
    {
     "data": {
      "text/plain": [
       "10×10000 Flux.OneHotMatrix{Array{Flux.OneHotVector,1}}:\n",
       " 0  0  0  1  0  0  0  0  0  0  1  0  0  …  0  0  0  0  0  1  0  0  0  0  0  0\n",
       " 0  0  1  0  0  1  0  0  0  0  0  0  0     0  0  0  0  0  0  1  0  0  0  0  0\n",
       " 0  1  0  0  0  0  0  0  0  0  0  0  0     0  0  0  0  0  0  0  1  0  0  0  0\n",
       " 0  0  0  0  0  0  0  0  0  0  0  0  0     0  0  0  0  0  0  0  0  1  0  0  0\n",
       " 0  0  0  0  1  0  1  0  0  0  0  0  0     0  0  0  0  0  0  0  0  0  1  0  0\n",
       " 0  0  0  0  0  0  0  0  1  0  0  0  0  …  1  0  0  0  0  0  0  0  0  0  1  0\n",
       " 0  0  0  0  0  0  0  0  0  0  0  1  0     0  1  0  0  0  0  0  0  0  0  0  1\n",
       " 1  0  0  0  0  0  0  0  0  0  0  0  0     0  0  1  0  0  0  0  0  0  0  0  0\n",
       " 0  0  0  0  0  0  0  0  0  0  0  0  0     0  0  0  1  0  0  0  0  0  0  0  0\n",
       " 0  0  0  0  0  0  0  1  0  1  0  0  1     0  0  0  0  1  0  0  0  0  0  0  0"
      ]
     },
     "execution_count": 103,
     "metadata": {},
     "output_type": "execute_result"
    }
   ],
   "source": [
    "y_train = onehotbatch(y_train, 0:9)\n",
    "y_valid = onehotbatch(y_valid, 0:9);"
   ]
  },
  {
   "cell_type": "markdown",
   "metadata": {},
   "source": [
    "And finally we will use DataLoader to manage minibatches. Here I've chosen a batchsize of 128 images."
   ]
  },
  {
   "cell_type": "code",
   "execution_count": 23,
   "metadata": {
    "collapsed": true,
    "jupyter": {
     "outputs_hidden": true
    }
   },
   "outputs": [
    {
     "data": {
      "text/plain": [
       "DataLoader((Array{Gray{Normed{UInt8,8}},2}[[Gray{N0f8}(0.0) Gray{N0f8}(0.0) … Gray{N0f8}(0.0) Gray{N0f8}(0.0); Gray{N0f8}(0.0) Gray{N0f8}(0.0) … Gray{N0f8}(0.0) Gray{N0f8}(0.0); … ; Gray{N0f8}(0.0) Gray{N0f8}(0.0) … Gray{N0f8}(0.0) Gray{N0f8}(0.0); Gray{N0f8}(0.0) Gray{N0f8}(0.0) … Gray{N0f8}(0.0) Gray{N0f8}(0.0)], [Gray{N0f8}(0.0) Gray{N0f8}(0.0) … Gray{N0f8}(0.0) Gray{N0f8}(0.0); Gray{N0f8}(0.0) Gray{N0f8}(0.0) … Gray{N0f8}(0.0) Gray{N0f8}(0.0); … ; Gray{N0f8}(0.0) Gray{N0f8}(0.0) … Gray{N0f8}(0.0) Gray{N0f8}(0.0); Gray{N0f8}(0.0) Gray{N0f8}(0.0) … Gray{N0f8}(0.0) Gray{N0f8}(0.0)], [Gray{N0f8}(0.0) Gray{N0f8}(0.0) … Gray{N0f8}(0.0) Gray{N0f8}(0.0); Gray{N0f8}(0.0) Gray{N0f8}(0.0) … Gray{N0f8}(0.0) Gray{N0f8}(0.0); … ; Gray{N0f8}(0.0) Gray{N0f8}(0.0) … Gray{N0f8}(0.0) Gray{N0f8}(0.0); Gray{N0f8}(0.0) Gray{N0f8}(0.0) … Gray{N0f8}(0.0) Gray{N0f8}(0.0)], [Gray{N0f8}(0.0) Gray{N0f8}(0.0) … Gray{N0f8}(0.0) Gray{N0f8}(0.0); Gray{N0f8}(0.0) Gray{N0f8}(0.0) … Gray{N0f8}(0.0) Gray{N0f8}(0.0); … ; Gray{N0f8}(0.0) Gray{N0f8}(0.0) … Gray{N0f8}(0.0) Gray{N0f8}(0.0); Gray{N0f8}(0.0) Gray{N0f8}(0.0) … Gray{N0f8}(0.0) Gray{N0f8}(0.0)], [Gray{N0f8}(0.0) Gray{N0f8}(0.0) … Gray{N0f8}(0.0) Gray{N0f8}(0.0); Gray{N0f8}(0.0) Gray{N0f8}(0.0) … Gray{N0f8}(0.0) Gray{N0f8}(0.0); … ; Gray{N0f8}(0.0) Gray{N0f8}(0.0) … Gray{N0f8}(0.0) Gray{N0f8}(0.0); Gray{N0f8}(0.0) Gray{N0f8}(0.0) … Gray{N0f8}(0.0) Gray{N0f8}(0.0)], [Gray{N0f8}(0.0) Gray{N0f8}(0.0) … Gray{N0f8}(0.0) Gray{N0f8}(0.0); Gray{N0f8}(0.0) Gray{N0f8}(0.0) … Gray{N0f8}(0.0) Gray{N0f8}(0.0); … ; Gray{N0f8}(0.0) Gray{N0f8}(0.0) … Gray{N0f8}(0.0) Gray{N0f8}(0.0); Gray{N0f8}(0.0) Gray{N0f8}(0.0) … Gray{N0f8}(0.0) Gray{N0f8}(0.0)], [Gray{N0f8}(0.0) Gray{N0f8}(0.0) … Gray{N0f8}(0.0) Gray{N0f8}(0.0); Gray{N0f8}(0.0) Gray{N0f8}(0.0) … Gray{N0f8}(0.0) Gray{N0f8}(0.0); … ; Gray{N0f8}(0.0) Gray{N0f8}(0.0) … Gray{N0f8}(0.0) Gray{N0f8}(0.0); Gray{N0f8}(0.0) Gray{N0f8}(0.0) … Gray{N0f8}(0.0) Gray{N0f8}(0.0)], [Gray{N0f8}(0.0) Gray{N0f8}(0.0) … Gray{N0f8}(0.0) Gray{N0f8}(0.0); Gray{N0f8}(0.0) Gray{N0f8}(0.0) … Gray{N0f8}(0.0) Gray{N0f8}(0.0); … ; Gray{N0f8}(0.0) Gray{N0f8}(0.0) … Gray{N0f8}(0.0) Gray{N0f8}(0.0); Gray{N0f8}(0.0) Gray{N0f8}(0.0) … Gray{N0f8}(0.0) Gray{N0f8}(0.0)], [Gray{N0f8}(0.0) Gray{N0f8}(0.0) … Gray{N0f8}(0.0) Gray{N0f8}(0.0); Gray{N0f8}(0.0) Gray{N0f8}(0.0) … Gray{N0f8}(0.0) Gray{N0f8}(0.0); … ; Gray{N0f8}(0.0) Gray{N0f8}(0.0) … Gray{N0f8}(0.0) Gray{N0f8}(0.0); Gray{N0f8}(0.0) Gray{N0f8}(0.0) … Gray{N0f8}(0.0) Gray{N0f8}(0.0)], [Gray{N0f8}(0.0) Gray{N0f8}(0.0) … Gray{N0f8}(0.0) Gray{N0f8}(0.0); Gray{N0f8}(0.0) Gray{N0f8}(0.0) … Gray{N0f8}(0.0) Gray{N0f8}(0.0); … ; Gray{N0f8}(0.0) Gray{N0f8}(0.0) … Gray{N0f8}(0.0) Gray{N0f8}(0.0); Gray{N0f8}(0.0) Gray{N0f8}(0.0) … Gray{N0f8}(0.0) Gray{N0f8}(0.0)]  …  [Gray{N0f8}(0.0) Gray{N0f8}(0.0) … Gray{N0f8}(0.0) Gray{N0f8}(0.0); Gray{N0f8}(0.0) Gray{N0f8}(0.0) … Gray{N0f8}(0.0) Gray{N0f8}(0.0); … ; Gray{N0f8}(0.0) Gray{N0f8}(0.0) … Gray{N0f8}(0.0) Gray{N0f8}(0.0); Gray{N0f8}(0.0) Gray{N0f8}(0.0) … Gray{N0f8}(0.0) Gray{N0f8}(0.0)], [Gray{N0f8}(0.0) Gray{N0f8}(0.0) … Gray{N0f8}(0.0) Gray{N0f8}(0.0); Gray{N0f8}(0.0) Gray{N0f8}(0.0) … Gray{N0f8}(0.0) Gray{N0f8}(0.0); … ; Gray{N0f8}(0.0) Gray{N0f8}(0.0) … Gray{N0f8}(0.0) Gray{N0f8}(0.0); Gray{N0f8}(0.0) Gray{N0f8}(0.0) … Gray{N0f8}(0.0) Gray{N0f8}(0.0)], [Gray{N0f8}(0.0) Gray{N0f8}(0.0) … Gray{N0f8}(0.0) Gray{N0f8}(0.0); Gray{N0f8}(0.0) Gray{N0f8}(0.0) … Gray{N0f8}(0.0) Gray{N0f8}(0.0); … ; Gray{N0f8}(0.0) Gray{N0f8}(0.0) … Gray{N0f8}(0.0) Gray{N0f8}(0.0); Gray{N0f8}(0.0) Gray{N0f8}(0.0) … Gray{N0f8}(0.0) Gray{N0f8}(0.0)], [Gray{N0f8}(0.0) Gray{N0f8}(0.0) … Gray{N0f8}(0.0) Gray{N0f8}(0.0); Gray{N0f8}(0.0) Gray{N0f8}(0.0) … Gray{N0f8}(0.0) Gray{N0f8}(0.0); … ; Gray{N0f8}(0.0) Gray{N0f8}(0.0) … Gray{N0f8}(0.0) Gray{N0f8}(0.0); Gray{N0f8}(0.0) Gray{N0f8}(0.0) … Gray{N0f8}(0.0) Gray{N0f8}(0.0)], [Gray{N0f8}(0.0) Gray{N0f8}(0.0) … Gray{N0f8}(0.0) Gray{N0f8}(0.0); Gray{N0f8}(0.0) Gray{N0f8}(0.0) … Gray{N0f8}(0.0) Gray{N0f8}(0.0); … ; Gray{N0f8}(0.0) Gray{N0f8}(0.0) … Gray{N0f8}(0.0) Gray{N0f8}(0.0); Gray{N0f8}(0.0) Gray{N0f8}(0.0) … Gray{N0f8}(0.0) Gray{N0f8}(0.0)], [Gray{N0f8}(0.0) Gray{N0f8}(0.0) … Gray{N0f8}(0.0) Gray{N0f8}(0.0); Gray{N0f8}(0.0) Gray{N0f8}(0.0) … Gray{N0f8}(0.0) Gray{N0f8}(0.0); … ; Gray{N0f8}(0.0) Gray{N0f8}(0.0) … Gray{N0f8}(0.0) Gray{N0f8}(0.0); Gray{N0f8}(0.0) Gray{N0f8}(0.0) … Gray{N0f8}(0.0) Gray{N0f8}(0.0)], [Gray{N0f8}(0.0) Gray{N0f8}(0.0) … Gray{N0f8}(0.0) Gray{N0f8}(0.0); Gray{N0f8}(0.0) Gray{N0f8}(0.0) … Gray{N0f8}(0.0) Gray{N0f8}(0.0); … ; Gray{N0f8}(0.0) Gray{N0f8}(0.0) … Gray{N0f8}(0.0) Gray{N0f8}(0.0); Gray{N0f8}(0.0) Gray{N0f8}(0.0) … Gray{N0f8}(0.0) Gray{N0f8}(0.0)], [Gray{N0f8}(0.0) Gray{N0f8}(0.0) … Gray{N0f8}(0.0) Gray{N0f8}(0.0); Gray{N0f8}(0.0) Gray{N0f8}(0.0) … Gray{N0f8}(0.0) Gray{N0f8}(0.0); … ; Gray{N0f8}(0.0) Gray{N0f8}(0.0) … Gray{N0f8}(0.0) Gray{N0f8}(0.0); Gray{N0f8}(0.0) Gray{N0f8}(0.0) … Gray{N0f8}(0.0) Gray{N0f8}(0.0)], [Gray{N0f8}(0.0) Gray{N0f8}(0.0) … Gray{N0f8}(0.0) Gray{N0f8}(0.0); Gray{N0f8}(0.0) Gray{N0f8}(0.0) … Gray{N0f8}(0.0) Gray{N0f8}(0.0); … ; Gray{N0f8}(0.0) Gray{N0f8}(0.0) … Gray{N0f8}(0.0) Gray{N0f8}(0.0); Gray{N0f8}(0.0) Gray{N0f8}(0.0) … Gray{N0f8}(0.0) Gray{N0f8}(0.0)], [Gray{N0f8}(0.0) Gray{N0f8}(0.0) … Gray{N0f8}(0.0) Gray{N0f8}(0.0); Gray{N0f8}(0.0) Gray{N0f8}(0.0) … Gray{N0f8}(0.0) Gray{N0f8}(0.0); … ; Gray{N0f8}(0.0) Gray{N0f8}(0.0) … Gray{N0f8}(0.0) Gray{N0f8}(0.0); Gray{N0f8}(0.0) Gray{N0f8}(0.0) … Gray{N0f8}(0.0) Gray{N0f8}(0.0)]], Bool[0 1 … 0 0; 0 0 … 0 0; … ; 0 0 … 0 1; 0 0 … 0 0]), 128, 60000, true, 60000, [1, 2, 3, 4, 5, 6, 7, 8, 9, 10  …  59991, 59992, 59993, 59994, 59995, 59996, 59997, 59998, 59999, 60000], false)"
      ]
     },
     "execution_count": 23,
     "metadata": {},
     "output_type": "execute_result"
    }
   ],
   "source": [
    "train_data = DataLoader(x_train, y_train, batchsize=128);"
   ]
  },
  {
   "cell_type": "markdown",
   "metadata": {},
   "source": [
    "## Creating the model"
   ]
  },
  {
   "cell_type": "markdown",
   "metadata": {},
   "source": [
    "Now it is time to create our model. We will use **Chain()** and put our chosen layers there. You can chcek the full list of avilable layers [here](https://fluxml.ai/Flux.jl/stable/models/layers/)."
   ]
  },
  {
   "cell_type": "markdown",
   "metadata": {},
   "source": [
    "But first lets define layers manually and see exactly what outputs they produce. First 4 layers are no mystery. We start with a convolution kernel 5x5 and we go from 1 channel to 8. Nest 3 layers are similar but with a kernel of 3x3. Then we do a GlobalMeanPool. This layer will take a mean from our 32 feature maps in each sample and return a vetor of 32 for each sample. But we can't feed it into thed ense layer yet becouse the dimentions won't mach. That is why we define layer 55 *(5.5)* which will simply drop the first 2 dimentions and produce a tensor of size 32xN. You can see it in the for loop."
   ]
  },
  {
   "cell_type": "code",
   "execution_count": 141,
   "metadata": {},
   "outputs": [
    {
     "data": {
      "text/plain": [
       "onecold (generic function with 4 methods)"
      ]
     },
     "execution_count": 141,
     "metadata": {},
     "output_type": "execute_result"
    }
   ],
   "source": [
    "layer1 = Conv((5, 5), 1=>8, pad=2, stride=2, relu) # Conv layer with a kernel of size 5x5, skipping every second pixel\n",
    "layer2 = Conv((3, 3), 8=>16, pad=1, stride=2, relu)\n",
    "layer3 = Conv((3, 3), 16=>32, pad=1, stride=2, relu)\n",
    "layer4 = Conv((3, 3), 32=>32, pad=1, stride=2, relu)\n",
    "\n",
    "layer5 = GlobalMeanPool() # Layer to take average from our 2x2 feature map\n",
    "\n",
    "layer55 = x -> reshape(x, :, size(x, 4)) # Layer to drop 2 first singleton dimentions\n",
    "\n",
    "layer6 = Dense(32, 10) # Standard Linear layer\n",
    "layer7 = softmax\n",
    "\n",
    "layer8 = onecold; # Reverse onehot encoding and get a vector with predictions"
   ]
  },
  {
   "cell_type": "code",
   "execution_count": 142,
   "metadata": {},
   "outputs": [
    {
     "name": "stdout",
     "output_type": "stream",
     "text": [
      "Input size to layer: Conv((5, 5), 1=>8, relu) = (28, 28, 1, 10000)\n",
      "Output size from layer: Conv((5, 5), 1=>8, relu) = (14, 14, 8, 10000)\n",
      "\n",
      "Input size to layer: Conv((3, 3), 8=>16, relu) = (14, 14, 8, 10000)\n",
      "Output size from layer: Conv((3, 3), 8=>16, relu) = (7, 7, 16, 10000)\n",
      "\n",
      "Input size to layer: Conv((3, 3), 16=>32, relu) = (7, 7, 16, 10000)\n",
      "Output size from layer: Conv((3, 3), 16=>32, relu) = (4, 4, 32, 10000)\n",
      "\n",
      "Input size to layer: Conv((3, 3), 32=>32, relu) = (4, 4, 32, 10000)\n",
      "Output size from layer: Conv((3, 3), 32=>32, relu) = (2, 2, 32, 10000)\n",
      "\n",
      "Input size to layer: GlobalMeanPool() = (2, 2, 32, 10000)\n",
      "Output size from layer: GlobalMeanPool() = (1, 1, 32, 10000)\n",
      "\n",
      "Input size to layer: #15 = (1, 1, 32, 10000)\n",
      "Output size from layer: #15 = (32, 10000)\n",
      "\n",
      "Input size to layer: Dense(32, 10) = (32, 10000)\n",
      "Output size from layer: Dense(32, 10) = (10, 10000)\n",
      "\n",
      "Input size to layer: softmax = (10, 10000)\n",
      "Output size from layer: softmax = (10, 10000)\n",
      "\n",
      "Input size to layer: onecold = (10, 10000)\n",
      "Output size from layer: onecold = (10000,)\n",
      "\n"
     ]
    }
   ],
   "source": [
    "layers = [layer1, layer2, layer3, layer4, layer5, layer55, layer6, layer7, layer8]\n",
    "x = x_valid\n",
    "\n",
    "for layer in layers\n",
    "    println(\"Input size to layer: $layer = $(size(x))\")\n",
    "    x = layer(x)\n",
    "    println(\"Output size from layer: $layer = $(size(x))\\n\")\n",
    "end"
   ]
  },
  {
   "cell_type": "code",
   "execution_count": 144,
   "metadata": {},
   "outputs": [
    {
     "data": {
      "text/plain": [
       "Chain(Conv((5, 5), 1=>8, relu), Conv((3, 3), 8=>16, relu), Conv((3, 3), 16=>32, relu), Conv((3, 3), 32=>32, relu), GlobalMeanPool(), #17, Dense(32, 10), softmax)"
      ]
     },
     "execution_count": 144,
     "metadata": {},
     "output_type": "execute_result"
    }
   ],
   "source": [
    "model = Chain(\n",
    "    Conv((5, 5), 1=>8, pad=2, stride=2, relu), # 28x28 => 14x14\n",
    "    Conv((3, 3), 8=>16, pad=1, stride=2, relu), # 14x14 => 7x7\n",
    "    Conv((3, 3), 16=>32, pad=1, stride=2, relu), # 7x7 => 4x4\n",
    "    Conv((3, 3), 32=>32, pad=1, stride=2, relu), # 4x4 => 2x2\n",
    "    \n",
    "    GlobalMeanPool(), # Average pooling on each width x height feature map\n",
    "\n",
    "    x -> reshape(x, :, size(x, 4)),\n",
    "    \n",
    "    Dense(32, 10),\n",
    "    softmax);"
   ]
  },
  {
   "cell_type": "code",
   "execution_count": 150,
   "metadata": {},
   "outputs": [
    {
     "name": "stdout",
     "output_type": "stream",
     "text": [
      "Prediction of first image: 6\n"
     ]
    }
   ],
   "source": [
    "ŷ = model(x_train) # Getting predictions \n",
    "ŷ = onecold(ŷ) # Decoding predictions\n",
    "println(\"Prediction of first image: $(ŷ[1])\")"
   ]
  },
  {
   "cell_type": "markdown",
   "metadata": {},
   "source": [
    "We see  the model works but we haven't done any training yet so most likely it won't win any kaggle competitions just yet."
   ]
  },
  {
   "cell_type": "code",
   "execution_count": null,
   "metadata": {},
   "outputs": [],
   "source": [
    "\"\"\"\n",
    "    accuracy(ŷ, y)\n",
    "Calculate the accuracy of onehot encoded model. Last dimention is the samples axis.\n",
    "\n",
    "# Example\n",
    "```\n",
    "accuracy(model(x_train), y_train)\n",
    "```\n",
    "\"\"\"\n",
    "accuracy(ŷ, y) = mean(onecold(ŷ) .== onecold(y))"
   ]
  }
 ],
 "metadata": {
  "kernelspec": {
   "display_name": "Julia 1.3.0",
   "language": "julia",
   "name": "julia-1.3"
  },
  "language_info": {
   "file_extension": ".jl",
   "mimetype": "application/julia",
   "name": "julia",
   "version": "1.3.0"
  }
 },
 "nbformat": 4,
 "nbformat_minor": 4
}
